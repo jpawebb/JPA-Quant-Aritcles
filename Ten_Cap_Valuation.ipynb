{
 "cells": [
  {
   "cell_type": "code",
   "execution_count": null,
   "metadata": {},
   "outputs": [],
   "source": [
    "\"\"\" Phil Town 10 cap stock valuation, best suited for non-financial firms. \"\"\""
   ]
  },
  {
   "cell_type": "code",
   "execution_count": 2,
   "metadata": {},
   "outputs": [],
   "source": [
    "# !pip install yahoofinancials"
   ]
  },
  {
   "cell_type": "code",
   "execution_count": 3,
   "metadata": {},
   "outputs": [],
   "source": [
    "from yahoofinancials import YahooFinancials\n",
    "import pandas as pd"
   ]
  },
  {
   "cell_type": "code",
   "execution_count": 4,
   "metadata": {},
   "outputs": [],
   "source": [
    "def ten_cap_valuation(ticker, maintenence_ratio):\n",
    "    \n",
    "    \"\"\"\n",
    "    ticker: String, conventionally in block capitals\n",
    "    maintenence_ratio: Float, portion of capital expenditure spent on maintenence, typically 50%. Higher is more conservative\n",
    "    \"\"\"\n",
    "    \n",
    "    stock_obj = YahooFinancials(ticker)\n",
    "    q_cashflow_data = stock_obj.get_financial_stmts('quartly', 'cash')['cashflowStatementHistoryQuarterly'][ticker][0]\n",
    "    a_cashflow_data = stock_obj.get_financial_stmts('annual', 'cash')\n",
    "    \n",
    "    try:\n",
    "        indexer = list(q_cashflow_data.keys())[0]\n",
    "        recent_cashflow = q_cashflow_data[indexer]\n",
    "\n",
    "        cash_from_operations = recent_cashflow['totalCashFromOperatingActivities']\n",
    "\n",
    "        cap_ex = recent_cashflow['capitalExpenditures']\n",
    "        maintenence_cap_ex = cap_ex * maintenence_ratio\n",
    "\n",
    "        market_cap = stock_obj.get_summary_data()[ticker]['marketCap']\n",
    "\n",
    "        cap_rate = round(((cash_from_operations - maintenence_cap_ex) / market_cap) * 100, 2)\n",
    "\n",
    "        if cap_rate < 10:\n",
    "            print(f'{ticker} too low at {cap_rate}%\\n')\n",
    "        else:\n",
    "            print(f'{ticker} HIGH at {cap_rate}%\\n')\n",
    "    except:\n",
    "        print(f'Insufficient data on API for {ticker}\\n')\n",
    "    \n",
    "    return \n",
    "    "
   ]
  },
  {
   "cell_type": "code",
   "execution_count": 5,
   "metadata": {},
   "outputs": [
    {
     "name": "stdout",
     "output_type": "stream",
     "text": [
      "UNP too low at 1.93%\n",
      "\n",
      "Insufficient data on API for COST\n",
      "\n",
      "CAT too low at 2.28%\n",
      "\n",
      "Insufficient data on API for AMT\n",
      "\n",
      "LOW too low at 1.85%\n",
      "\n",
      "Insufficient data on API for PLD\n",
      "\n",
      "ZTS too low at 0.59%\n",
      "\n"
     ]
    }
   ],
   "source": [
    "assets = ['UNP', 'COST', 'CAT', 'AMT', 'LOW', 'PLD', 'ZTS']\n",
    "\n",
    "for asset in assets:\n",
    "    ten_cap_valuation(asset, 0.5)"
   ]
  },
  {
   "cell_type": "code",
   "execution_count": null,
   "metadata": {},
   "outputs": [],
   "source": []
  }
 ],
 "metadata": {
  "kernelspec": {
   "display_name": "Python 3",
   "language": "python",
   "name": "python3"
  },
  "language_info": {
   "codemirror_mode": {
    "name": "ipython",
    "version": 3
   },
   "file_extension": ".py",
   "mimetype": "text/x-python",
   "name": "python",
   "nbconvert_exporter": "python",
   "pygments_lexer": "ipython3",
   "version": "3.8.5"
  }
 },
 "nbformat": 4,
 "nbformat_minor": 4
}
